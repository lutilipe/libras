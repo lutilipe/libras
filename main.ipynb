{
  "cells": [
    {
      "cell_type": "markdown",
      "metadata": {
        "id": "JAg9y5tn8NZc"
      },
      "source": [
        "# Configurações Gerais"
      ]
    },
    {
      "cell_type": "markdown",
      "metadata": {
        "id": "-cYhg-nB8doo"
      },
      "source": [
        "## Instalação das dependências necessárias"
      ]
    },
    {
      "cell_type": "code",
      "execution_count": 1,
      "metadata": {
        "colab": {
          "base_uri": "https://localhost:8080/"
        },
        "id": "UIevyy48QV5o",
        "outputId": "378cbc0b-76f1-413f-9e89-1f1d0487f100"
      },
      "outputs": [
        {
          "output_type": "stream",
          "name": "stdout",
          "text": [
            "\u001b[2K     \u001b[90m━━━━━━━━━━━━━━━━━━━━━━━━━━━━━━━━━━━━━━━━\u001b[0m \u001b[32m35.6/35.6 MB\u001b[0m \u001b[31m25.6 MB/s\u001b[0m eta \u001b[36m0:00:00\u001b[0m\n",
            "\u001b[?25h"
          ]
        }
      ],
      "source": [
        "!pip install -q mediapipe tensorflow matplotlib"
      ]
    },
    {
      "cell_type": "markdown",
      "metadata": {
        "id": "CfM2SCW0VwyH"
      },
      "source": [
        "## Importação de um modelo de reconhecimento das mãos"
      ]
    },
    {
      "cell_type": "code",
      "execution_count": 2,
      "metadata": {
        "id": "SXDA-92XVBu_"
      },
      "outputs": [],
      "source": [
        "!wget -q https://storage.googleapis.com/mediapipe-models/gesture_recognizer/gesture_recognizer/float16/1/gesture_recognizer.task"
      ]
    },
    {
      "cell_type": "code",
      "execution_count": 134,
      "metadata": {
        "id": "A8J1xOw_26AK"
      },
      "outputs": [],
      "source": [
        "import mediapipe as mp\n",
        "from mediapipe.tasks import python\n",
        "from mediapipe.tasks.python import vision\n",
        "from google.colab.patches import cv2_imshow\n",
        "import cv2\n",
        "import os\n",
        "import numpy as np\n",
        "import tensorflow as tf\n",
        "import pandas as pd\n",
        "from sklearn.model_selection import train_test_split\n",
        "from tensorflow.keras.utils import to_categorical\n",
        "from tensorflow.keras.models import Sequential\n",
        "from tensorflow.keras.layers import LSTM, Dense"
      ]
    },
    {
      "cell_type": "markdown",
      "source": [
        "# UTILS"
      ],
      "metadata": {
        "id": "lXT5k6t6hlWL"
      }
    },
    {
      "cell_type": "markdown",
      "source": [
        "## Delete folder"
      ],
      "metadata": {
        "id": "0-zCtvJNkEBp"
      }
    },
    {
      "cell_type": "code",
      "source": [
        "import shutil\n",
        "\n",
        "def delete_folder(folder_path):\n",
        "    \"\"\"\n",
        "    Exclui uma pasta e todo o seu conteúdo.\n",
        "\n",
        "    :param folder_path: O caminho para a pasta que você deseja excluir.\n",
        "    \"\"\"\n",
        "    try:\n",
        "        shutil.rmtree(folder_path)\n",
        "        print(\"Pasta excluída com sucesso!\")\n",
        "    except Exception as e:\n",
        "        print(f\"Ocorreu um erro ao excluir a pasta: {e}\")\n",
        "\n"
      ],
      "metadata": {
        "id": "dy1OPZYZkFLe"
      },
      "execution_count": 36,
      "outputs": []
    },
    {
      "cell_type": "markdown",
      "source": [
        "## Unzip files"
      ],
      "metadata": {
        "id": "VjCDkxlzk07z"
      }
    },
    {
      "cell_type": "code",
      "source": [
        "import zipfile\n",
        "import os\n",
        "\n",
        "def unzip_file(zip_path, extract_to):\n",
        "    \"\"\"\n",
        "    Extrai um arquivo zip para uma pasta específica.\n",
        "\n",
        "    :param zip_path: O caminho para o arquivo zip que você deseja extrair.\n",
        "    :param extract_to: O caminho da pasta onde deseja extrair o conteúdo do arquivo zip.\n",
        "    \"\"\"\n",
        "    with zipfile.ZipFile(zip_path, 'r') as zip_ref:\n",
        "        zip_ref.extractall(extract_to)\n",
        "    print(\"Arquivo zip extraído com sucesso!\")\n"
      ],
      "metadata": {
        "id": "-OyTYdOBk2k0"
      },
      "execution_count": 45,
      "outputs": []
    },
    {
      "cell_type": "markdown",
      "source": [
        "## Zip Files"
      ],
      "metadata": {
        "id": "-Kg7GVbQiiOQ"
      }
    },
    {
      "cell_type": "code",
      "source": [
        "import zipfile\n",
        "import os\n",
        "\n",
        "def zip_folder(folder_path, output_path):\n",
        "    \"\"\"\n",
        "    Comprime uma pasta para um arquivo zip.\n",
        "\n",
        "    :param folder_path: O caminho para a pasta que você deseja comprimir.\n",
        "    :param output_path: O caminho onde o arquivo zip será salvo.\n",
        "    \"\"\"\n",
        "    with zipfile.ZipFile(output_path, 'w', zipfile.ZIP_DEFLATED) as zipf:\n",
        "        for root, _, files in os.walk(folder_path):\n",
        "            for file in files:\n",
        "                file_path = os.path.join(root, file)\n",
        "                zipf.write(file_path, os.path.relpath(file_path, folder_path))\n",
        "\n",
        "\n"
      ],
      "metadata": {
        "id": "KDMQ5w5UhpWH"
      },
      "execution_count": 29,
      "outputs": []
    },
    {
      "cell_type": "markdown",
      "metadata": {
        "id": "N0e4u61N79br"
      },
      "source": [
        "## Desenhar landmarks"
      ]
    },
    {
      "cell_type": "code",
      "execution_count": 6,
      "metadata": {
        "id": "9jHJAJAPWmGi"
      },
      "outputs": [],
      "source": [
        "def draw_landmarks(image, landmarks, color):\n",
        "\n",
        "  for landmark in landmarks:\n",
        "    height, width, _ = image.shape\n",
        "    cx, cy = int(landmark.x * width), int(landmark.y * height)\n",
        "    cv2.circle(image, (cx, cy), 5, color, cv2.FILLED)"
      ]
    },
    {
      "cell_type": "markdown",
      "source": [
        "## Formatação dos keyframes\n"
      ],
      "metadata": {
        "id": "lbDPKvulixsj"
      }
    },
    {
      "cell_type": "code",
      "source": [
        "def format_landmarks(landmarks):\n",
        "  formatted_landmarks = []\n",
        "  for hands_landmarks in landmarks:\n",
        "    hand_landmarks = []\n",
        "    for landmark in hands_landmarks:\n",
        "      hand_landmarks.append([landmark.x, landmark.y, landmark.z])\n",
        "  formatted_landmarks.append(np.concatenate(hand_landmarks))\n",
        "\n",
        "  return np.concatenate(formatted_landmarks)\n"
      ],
      "metadata": {
        "id": "7AMqT-LDi1Wp"
      },
      "execution_count": 68,
      "outputs": []
    },
    {
      "cell_type": "markdown",
      "source": [
        "# Salvar dados (array)"
      ],
      "metadata": {
        "id": "xagPDfPXiP_I"
      }
    },
    {
      "cell_type": "markdown",
      "source": [
        "## Importação dos vídeos do drive"
      ],
      "metadata": {
        "id": "mfp-wBlE6o1F"
      }
    },
    {
      "cell_type": "code",
      "source": [
        "from google.colab import drive\n",
        "drive.mount('/content/drive/')\n"
      ],
      "metadata": {
        "colab": {
          "base_uri": "https://localhost:8080/"
        },
        "id": "-HmA0_D76oBh",
        "outputId": "c3990572-cea0-47db-e7ad-e466bb2a1d18"
      },
      "execution_count": 3,
      "outputs": [
        {
          "output_type": "stream",
          "name": "stdout",
          "text": [
            "Mounted at /content/drive/\n"
          ]
        }
      ]
    },
    {
      "cell_type": "code",
      "source": [
        "!unzip './drive/MyDrive/UFMG/Lab4/videos.zip'"
      ],
      "metadata": {
        "id": "d2Cr1ioe7NsL"
      },
      "execution_count": null,
      "outputs": []
    },
    {
      "cell_type": "markdown",
      "metadata": {
        "id": "J4QLB2OfXaxy"
      },
      "source": [
        "## Processamento de vídeo"
      ]
    },
    {
      "cell_type": "code",
      "execution_count": null,
      "metadata": {
        "id": "ZUa3lSdFQBnB"
      },
      "outputs": [],
      "source": [
        "def show_frame(frame, hands_landmarks):\n",
        "  colors = [(0, 255, 0), (0, 0, 255)]\n",
        "\n",
        "\n",
        "  for idx, hand_landmark in enumerate(hands_landmarks):\n",
        "    draw_landmarks(frame, hand_landmark, colors[idx])\n",
        "\n",
        "  cv2_imshow(frame)\n",
        "  cv2.waitKey(0)\n",
        "  cv2.destroyAllWindows()"
      ]
    },
    {
      "cell_type": "code",
      "execution_count": 25,
      "metadata": {
        "id": "lJfIJ96DXaWa"
      },
      "outputs": [],
      "source": [
        "def process_video(video_path, label, sequence):\n",
        "  base_options = python.BaseOptions(model_asset_path='gesture_recognizer.task')\n",
        "  options = vision.GestureRecognizerOptions(base_options=base_options, num_hands=2)\n",
        "  recognizer = vision.GestureRecognizer.create_from_options(options)\n",
        "\n",
        "  cap = cv2.VideoCapture(video_path)\n",
        "\n",
        "  video_frames = []\n",
        "  num_frames = 30\n",
        "  video_num_frames = 0\n",
        "\n",
        "  keyframes = []\n",
        "\n",
        "  while cap.isOpened():\n",
        "        ret, frame = cap.read()\n",
        "        if not ret:\n",
        "            break\n",
        "\n",
        "        frame_rgb = cv2.cvtColor(frame, cv2.COLOR_BGR2RGB)\n",
        "        image = mp.Image(image_format=mp.ImageFormat.SRGB, data=frame_rgb)\n",
        "\n",
        "        recognition_result = recognizer.recognize(image)\n",
        "        npy_path = os.path.join('./np', label, str(sequence), str((video_num_frames)))\n",
        "        np.save(npy_path, recognition_result.hand_landmarks)\n",
        "        video_num_frames += 1\n",
        "\n",
        "\n",
        "        if cv2.waitKey(1) & 0xFF == ord('q'):\n",
        "            break\n",
        "\n",
        "  cap.release()\n",
        "  cv2.destroyAllWindows()\n",
        "  return keyframes"
      ]
    },
    {
      "cell_type": "markdown",
      "metadata": {
        "id": "mWHGDUl3qB4d"
      },
      "source": [
        "## Montar base de dados\n",
        "\n"
      ]
    },
    {
      "cell_type": "code",
      "execution_count": 148,
      "metadata": {
        "colab": {
          "base_uri": "https://localhost:8080/"
        },
        "id": "evYxb_mcjcZ5",
        "outputId": "34674bb7-34c0-4658-9070-ecfbfa5078d4"
      },
      "outputs": [
        {
          "output_type": "execute_result",
          "data": {
            "text/plain": [
              "{'acontecer': 0, 'aluno': 1, 'amarelo': 2, 'america': 3, 'aproveitar': 4}"
            ]
          },
          "metadata": {},
          "execution_count": 148
        }
      ],
      "source": [
        "directory_path = './videos'\n",
        "directory_files = os.listdir(directory_path)\n",
        "labels = np.array(['acontecer', 'aluno', 'amarelo', 'america', 'aproveitar']) # directory_files\n",
        "label_map = {label:num for num, label in enumerate(labels)}\n",
        "label_map\n"
      ]
    },
    {
      "cell_type": "code",
      "source": [
        "# Recria a pasta np\n",
        "folder_name = './np'\n",
        "delete_folder(folder_name)\n",
        "os.mkdir(folder_name)"
      ],
      "metadata": {
        "id": "l7KhQeiLJeXJ",
        "colab": {
          "base_uri": "https://localhost:8080/"
        },
        "outputId": "2cd11a35-b8ad-478b-bc49-f5a0b331b7f7"
      },
      "execution_count": 153,
      "outputs": [
        {
          "output_type": "stream",
          "name": "stdout",
          "text": [
            "Pasta excluída com sucesso!\n"
          ]
        }
      ]
    },
    {
      "cell_type": "code",
      "source": [
        "for label in labels:\n",
        "    for sequence in range(5): #trocar isso por uma variável que simboliza o número de vídeos\n",
        "        try:\n",
        "            os.makedirs(os.path.join(folder_name, label, str(sequence)))\n",
        "        except:\n",
        "            pass"
      ],
      "metadata": {
        "id": "gYkLY-WbIkSm"
      },
      "execution_count": 154,
      "outputs": []
    },
    {
      "cell_type": "code",
      "source": [
        "# Popula array do numpy\n",
        "for idx, folder_path in enumerate(labels):\n",
        "  base_path = directory_path + '/'+folder_path\n",
        "  files = os.listdir(base_path)\n",
        "  for file_index in range(len(files)):\n",
        "    file_name = files[file_index]\n",
        "    video_frames = process_video(base_path + '/'+ file_name, folder_path, file_index)"
      ],
      "metadata": {
        "id": "AFLltLTRgsbT"
      },
      "execution_count": 155,
      "outputs": []
    },
    {
      "cell_type": "code",
      "source": [
        "folder_to_zip = './np'\n",
        "output_zip_path = './np.zip'\n",
        "zip_folder(folder_to_zip, output_zip_path)\n",
        "print(\"Pasta comprimida com sucesso!\")"
      ],
      "metadata": {
        "colab": {
          "base_uri": "https://localhost:8080/"
        },
        "id": "YNTXGMoShUW6",
        "outputId": "e76e67c0-41d7-4b25-8699-bf7730d41321"
      },
      "execution_count": 156,
      "outputs": [
        {
          "output_type": "stream",
          "name": "stdout",
          "text": [
            "Pasta comprimida com sucesso!\n"
          ]
        }
      ]
    },
    {
      "cell_type": "code",
      "source": [
        "delete_folder(folder_to_zip)"
      ],
      "metadata": {
        "colab": {
          "base_uri": "https://localhost:8080/"
        },
        "id": "A4KQ5_8LkUYV",
        "outputId": "fb8a964d-b016-4092-bbb1-a6e34a11ea99"
      },
      "execution_count": 157,
      "outputs": [
        {
          "output_type": "stream",
          "name": "stdout",
          "text": [
            "Pasta excluída com sucesso!\n"
          ]
        }
      ]
    },
    {
      "cell_type": "markdown",
      "source": [
        "# Processar dados salvos (array)"
      ],
      "metadata": {
        "id": "QqY3jjz9jebQ"
      }
    },
    {
      "cell_type": "markdown",
      "source": [
        "## Unzip pasta com os dados salvos\n"
      ],
      "metadata": {
        "id": "tQYkiMkPjv_U"
      }
    },
    {
      "cell_type": "code",
      "source": [
        "folder_name = './np'\n",
        "os.mkdir(folder_name)\n",
        "unzip_file('./np.zip', folder_name)"
      ],
      "metadata": {
        "colab": {
          "base_uri": "https://localhost:8080/"
        },
        "id": "R0GjD4wtji_8",
        "outputId": "f37beb13-2452-473d-f38c-47b397d67f5e"
      },
      "execution_count": 158,
      "outputs": [
        {
          "output_type": "stream",
          "name": "stdout",
          "text": [
            "Arquivo zip extraído com sucesso!\n"
          ]
        }
      ]
    },
    {
      "cell_type": "markdown",
      "source": [
        "## Carrega os dados"
      ],
      "metadata": {
        "id": "zG1Uy1Bgrfv7"
      }
    },
    {
      "cell_type": "code",
      "source": [
        "actions = os.listdir(folder_name)\n",
        "label_map = {label:num for num, label in enumerate(actions)}\n",
        "label_map"
      ],
      "metadata": {
        "colab": {
          "base_uri": "https://localhost:8080/"
        },
        "id": "HFr6yYwFwmnW",
        "outputId": "4eb9762b-312e-47d8-8bc8-063d8652f43c"
      },
      "execution_count": 159,
      "outputs": [
        {
          "output_type": "execute_result",
          "data": {
            "text/plain": [
              "{'amarelo': 0, 'aproveitar': 1, 'acontecer': 2, 'aluno': 3, 'america': 4}"
            ]
          },
          "metadata": {},
          "execution_count": 159
        }
      ]
    },
    {
      "cell_type": "code",
      "source": [
        "sequences, labels = [], []\n",
        "for action in actions:\n",
        "    actionFrames = []\n",
        "    no_sequences = len(os.listdir(folder_name + '/'+ action))\n",
        "    for sequence in range(no_sequences):\n",
        "        window = []\n",
        "        sequence_length = len(os.listdir(folder_name + '/'+ action + '/' + str(sequence)))\n",
        "        for frame_num in range(sequence_length):\n",
        "            res = np.load(os.path.join(folder_name, action, str(sequence), \"{}.npy\".format(frame_num)), allow_pickle=True)\n",
        "            window.append(res)\n",
        "        actionFrames.append(window)\n",
        "        labels.append(label_map[action])\n",
        "    sequences.append(actionFrames)\n"
      ],
      "metadata": {
        "id": "mcVN6RzwlJcV"
      },
      "execution_count": 160,
      "outputs": []
    },
    {
      "cell_type": "code",
      "source": [
        "'''\n",
        "Nesse momento, sequence é um array com uma posição para cada action (label), e dentro disso todos os vídeos\n",
        "Ou seja, imagine que temos actions = [\"oi\", \"bom dia\"]\n",
        "E cada action tem 2 vídeos\n",
        "\n",
        "\n",
        "sequences = [\n",
        "  [\n",
        "    [\n",
        "      [frame1],\n",
        "      [frame2]\n",
        "    ],  //video 1 label 1\n",
        "    [\n",
        "      [frame1],\n",
        "      [frame2]\n",
        "    ],  //video 2 label 1\n",
        "  ],\n",
        "  [\n",
        "    [\n",
        "      [frame1],\n",
        "      [frame2]\n",
        "    ],  //video 1 label 2\n",
        "    [\n",
        "      [frame1],\n",
        "      [frame2] label 2\n",
        "    ],\n",
        "  ]\n",
        "]\n",
        "\n",
        "'''"
      ],
      "metadata": {
        "colab": {
          "base_uri": "https://localhost:8080/",
          "height": 87
        },
        "id": "tj0C0yJusHsI",
        "outputId": "6836f338-6f91-49e9-bfd3-ea39ead8cd64"
      },
      "execution_count": 161,
      "outputs": [
        {
          "output_type": "execute_result",
          "data": {
            "text/plain": [
              "'\\nNesse momento, sequence é um array com uma posição para cada action (label), e dentro disso todos os vídeos\\nOu seja, imagine que temos actions = [\"oi\", \"bom dia\"]\\nE cada action tem 2 vídeos\\n\\n\\nsequences = [ \\n  [ \\n    [\\n      [frame1],\\n      [frame2]\\n    ],  //video 1 label 1\\n    [\\n      [frame1],\\n      [frame2]\\n    ],  //video 2 label 1\\n  ], \\n  [\\n    [\\n      [frame1],\\n      [frame2]\\n    ],  //video 1 label 2\\n    [\\n      [frame1],\\n      [frame2] label 2\\n    ],  \\n  ]\\n]\\n\\n'"
            ],
            "application/vnd.google.colaboratory.intrinsic+json": {
              "type": "string"
            }
          },
          "metadata": {},
          "execution_count": 161
        }
      ]
    },
    {
      "cell_type": "markdown",
      "metadata": {
        "id": "tkN7xDTqzqRW"
      },
      "source": [
        "# LSTM"
      ]
    },
    {
      "cell_type": "markdown",
      "source": [
        "## Trata os dados para deixar homogêneo"
      ],
      "metadata": {
        "id": "U93C8iSgwKHR"
      }
    },
    {
      "cell_type": "code",
      "source": [
        "### Rever esta lógica, estou definindo que todos os vídeos terão 30 frames\n",
        "formatted_sequences = []\n",
        "num_frames = 30\n",
        "\n",
        "for sequence in sequences:\n",
        "  videos = []\n",
        "  for video in sequence:\n",
        "    frames = []\n",
        "    for frame in video:\n",
        "      if(len(frame) > 0 and len(frames) < num_frames):\n",
        "        frames.append(format_landmarks(frame))\n",
        "    videos.append(frames)\n",
        "  formatted_sequences.append(videos)\n",
        ""
      ],
      "metadata": {
        "id": "3ZZ1OyxpssbP"
      },
      "execution_count": 162,
      "outputs": []
    },
    {
      "cell_type": "code",
      "source": [
        "formatted_sequences = np.array(formatted_sequences)\n",
        "actions = np.array(actions)"
      ],
      "metadata": {
        "id": "gn7oEyat2Zs7"
      },
      "execution_count": 163,
      "outputs": []
    },
    {
      "cell_type": "markdown",
      "source": [
        "## Separa os dados de treinamento e validação"
      ],
      "metadata": {
        "id": "1HQOpD2jyefL"
      }
    },
    {
      "cell_type": "code",
      "source": [
        "videos = np.concatenate(formatted_sequences)\n",
        "labels = np.array(labels)\n",
        "y = to_categorical(labels).astype(int)\n",
        "x_train, x_test, y_train, y_test = train_test_split(videos, y, test_size=0.3)\n"
      ],
      "metadata": {
        "id": "rTBjeEipyTYN"
      },
      "execution_count": 164,
      "outputs": []
    },
    {
      "cell_type": "markdown",
      "source": [
        "## Treinamento do modelo"
      ],
      "metadata": {
        "id": "e29ez7wU2v-T"
      }
    },
    {
      "cell_type": "code",
      "execution_count": 169,
      "metadata": {
        "id": "nKk72GPizr-j",
        "colab": {
          "base_uri": "https://localhost:8080/"
        },
        "outputId": "3202610a-1bc2-4e56-d525-d70fb5fc6ad0"
      },
      "outputs": [
        {
          "output_type": "stream",
          "name": "stdout",
          "text": [
            "Epoch 1/300\n",
            "1/1 [==============================] - 8s 8s/step - loss: 1.6117 - accuracy: 0.1765 - val_loss: 1.6084 - val_accuracy: 0.3750\n",
            "Epoch 2/300\n",
            "1/1 [==============================] - 0s 106ms/step - loss: 1.6035 - accuracy: 0.4118 - val_loss: 1.6122 - val_accuracy: 0.1250\n",
            "Epoch 3/300\n",
            "1/1 [==============================] - 0s 98ms/step - loss: 1.5962 - accuracy: 0.2353 - val_loss: 1.6152 - val_accuracy: 0.1250\n",
            "Epoch 4/300\n",
            "1/1 [==============================] - 0s 109ms/step - loss: 1.5882 - accuracy: 0.2353 - val_loss: 1.6156 - val_accuracy: 0.2500\n",
            "Epoch 5/300\n",
            "1/1 [==============================] - 0s 108ms/step - loss: 1.5771 - accuracy: 0.3529 - val_loss: 1.6194 - val_accuracy: 0.1250\n",
            "Epoch 6/300\n",
            "1/1 [==============================] - 0s 119ms/step - loss: 1.5639 - accuracy: 0.2941 - val_loss: 1.6241 - val_accuracy: 0.2500\n",
            "Epoch 7/300\n",
            "1/1 [==============================] - 0s 111ms/step - loss: 1.5425 - accuracy: 0.3529 - val_loss: 1.6303 - val_accuracy: 0.2500\n",
            "Epoch 8/300\n",
            "1/1 [==============================] - 0s 101ms/step - loss: 1.5056 - accuracy: 0.4706 - val_loss: 1.6415 - val_accuracy: 0.2500\n",
            "Epoch 9/300\n",
            "1/1 [==============================] - 0s 121ms/step - loss: 1.4359 - accuracy: 0.4706 - val_loss: 1.6926 - val_accuracy: 0.2500\n",
            "Epoch 10/300\n",
            "1/1 [==============================] - 0s 111ms/step - loss: 1.3252 - accuracy: 0.4706 - val_loss: 1.8403 - val_accuracy: 0.2500\n",
            "Epoch 11/300\n",
            "1/1 [==============================] - 0s 114ms/step - loss: 1.2861 - accuracy: 0.4706 - val_loss: 1.8086 - val_accuracy: 0.1250\n",
            "Epoch 12/300\n",
            "1/1 [==============================] - 0s 106ms/step - loss: 1.1875 - accuracy: 0.4706 - val_loss: 1.5291 - val_accuracy: 0.2500\n",
            "Epoch 13/300\n",
            "1/1 [==============================] - 0s 118ms/step - loss: 1.0673 - accuracy: 0.4706 - val_loss: 1.4283 - val_accuracy: 0.2500\n",
            "Epoch 14/300\n",
            "1/1 [==============================] - 0s 148ms/step - loss: 1.0120 - accuracy: 0.4706 - val_loss: 1.3262 - val_accuracy: 0.2500\n",
            "Epoch 15/300\n",
            "1/1 [==============================] - 0s 116ms/step - loss: 0.8675 - accuracy: 0.4706 - val_loss: 1.3148 - val_accuracy: 0.2500\n",
            "Epoch 16/300\n",
            "1/1 [==============================] - 0s 117ms/step - loss: 0.8179 - accuracy: 0.5294 - val_loss: 1.3745 - val_accuracy: 0.2500\n",
            "Epoch 17/300\n",
            "1/1 [==============================] - 0s 121ms/step - loss: 0.6880 - accuracy: 0.5882 - val_loss: 1.4945 - val_accuracy: 0.1250\n",
            "Epoch 18/300\n",
            "1/1 [==============================] - 0s 117ms/step - loss: 1.4395 - accuracy: 0.4706 - val_loss: 1.9050 - val_accuracy: 0.2500\n",
            "Epoch 19/300\n",
            "1/1 [==============================] - 0s 117ms/step - loss: 1.7440 - accuracy: 0.4118 - val_loss: 3.0192 - val_accuracy: 0.1250\n",
            "Epoch 20/300\n",
            "1/1 [==============================] - 0s 105ms/step - loss: 2.4652 - accuracy: 0.3529 - val_loss: 3.1975 - val_accuracy: 0.1250\n",
            "Epoch 21/300\n",
            "1/1 [==============================] - 0s 123ms/step - loss: 1.6460 - accuracy: 0.3529 - val_loss: 2.8892 - val_accuracy: 0.0000e+00\n",
            "Epoch 22/300\n",
            "1/1 [==============================] - 0s 105ms/step - loss: 2.5033 - accuracy: 0.3529 - val_loss: 1.3565 - val_accuracy: 0.2500\n",
            "Epoch 23/300\n",
            "1/1 [==============================] - 0s 104ms/step - loss: 0.7031 - accuracy: 0.5294 - val_loss: 1.1652 - val_accuracy: 0.2500\n",
            "Epoch 24/300\n",
            "1/1 [==============================] - 0s 114ms/step - loss: 0.7364 - accuracy: 0.5294 - val_loss: 1.1366 - val_accuracy: 0.3750\n",
            "Epoch 25/300\n",
            "1/1 [==============================] - 0s 107ms/step - loss: 0.7711 - accuracy: 0.5882 - val_loss: 1.1267 - val_accuracy: 0.3750\n",
            "Epoch 26/300\n",
            "1/1 [==============================] - 0s 125ms/step - loss: 0.7583 - accuracy: 0.6471 - val_loss: 1.1287 - val_accuracy: 0.3750\n",
            "Epoch 27/300\n",
            "1/1 [==============================] - 0s 139ms/step - loss: 0.7544 - accuracy: 0.7059 - val_loss: 1.1414 - val_accuracy: 0.3750\n",
            "Epoch 28/300\n",
            "1/1 [==============================] - 0s 115ms/step - loss: 0.7710 - accuracy: 0.7647 - val_loss: 1.1411 - val_accuracy: 0.3750\n",
            "Epoch 29/300\n",
            "1/1 [==============================] - 0s 108ms/step - loss: 0.7675 - accuracy: 0.7647 - val_loss: 1.1069 - val_accuracy: 0.3750\n",
            "Epoch 30/300\n",
            "1/1 [==============================] - 0s 94ms/step - loss: 0.7188 - accuracy: 0.7647 - val_loss: 1.0763 - val_accuracy: 0.2500\n",
            "Epoch 31/300\n",
            "1/1 [==============================] - 0s 105ms/step - loss: 0.6714 - accuracy: 0.7647 - val_loss: 1.0564 - val_accuracy: 0.2500\n",
            "Epoch 32/300\n",
            "1/1 [==============================] - 0s 105ms/step - loss: 0.6339 - accuracy: 0.7059 - val_loss: 1.0394 - val_accuracy: 0.2500\n",
            "Epoch 33/300\n",
            "1/1 [==============================] - 0s 105ms/step - loss: 0.5977 - accuracy: 0.7059 - val_loss: 1.0175 - val_accuracy: 0.3750\n",
            "Epoch 34/300\n",
            "1/1 [==============================] - 0s 95ms/step - loss: 0.5412 - accuracy: 0.6471 - val_loss: 0.9835 - val_accuracy: 0.3750\n",
            "Epoch 35/300\n",
            "1/1 [==============================] - 0s 126ms/step - loss: 0.5016 - accuracy: 0.7059 - val_loss: 0.9433 - val_accuracy: 0.3750\n",
            "Epoch 36/300\n",
            "1/1 [==============================] - 0s 105ms/step - loss: 0.9972 - accuracy: 0.6471 - val_loss: 0.9276 - val_accuracy: 0.3750\n",
            "Epoch 37/300\n",
            "1/1 [==============================] - 0s 101ms/step - loss: 0.6995 - accuracy: 0.7059 - val_loss: 1.6435 - val_accuracy: 0.2500\n",
            "Epoch 38/300\n",
            "1/1 [==============================] - 0s 95ms/step - loss: 2.7644 - accuracy: 0.5882 - val_loss: 1.1591 - val_accuracy: 0.2500\n",
            "Epoch 39/300\n",
            "1/1 [==============================] - 0s 98ms/step - loss: 1.2640 - accuracy: 0.5294 - val_loss: 0.9704 - val_accuracy: 0.5000\n",
            "Epoch 40/300\n",
            "1/1 [==============================] - 0s 99ms/step - loss: 0.7558 - accuracy: 0.7059 - val_loss: 0.9573 - val_accuracy: 0.6250\n",
            "Epoch 41/300\n",
            "1/1 [==============================] - 0s 93ms/step - loss: 0.6704 - accuracy: 0.8235 - val_loss: 0.9643 - val_accuracy: 0.6250\n",
            "Epoch 42/300\n",
            "1/1 [==============================] - 0s 103ms/step - loss: 0.6747 - accuracy: 0.8235 - val_loss: 0.9724 - val_accuracy: 0.6250\n",
            "Epoch 43/300\n",
            "1/1 [==============================] - 0s 100ms/step - loss: 0.6841 - accuracy: 0.8824 - val_loss: 0.9689 - val_accuracy: 0.6250\n",
            "Epoch 44/300\n",
            "1/1 [==============================] - 0s 123ms/step - loss: 0.6796 - accuracy: 0.8824 - val_loss: 0.9548 - val_accuracy: 0.6250\n",
            "Epoch 45/300\n",
            "1/1 [==============================] - 0s 102ms/step - loss: 0.6649 - accuracy: 0.8235 - val_loss: 0.9320 - val_accuracy: 0.5000\n",
            "Epoch 46/300\n",
            "1/1 [==============================] - 0s 94ms/step - loss: 0.6510 - accuracy: 0.8235 - val_loss: 0.9090 - val_accuracy: 0.5000\n",
            "Epoch 47/300\n",
            "1/1 [==============================] - 0s 98ms/step - loss: 0.6391 - accuracy: 0.8235 - val_loss: 0.8808 - val_accuracy: 0.5000\n",
            "Epoch 48/300\n",
            "1/1 [==============================] - 0s 105ms/step - loss: 0.6213 - accuracy: 0.8235 - val_loss: 0.8353 - val_accuracy: 0.5000\n",
            "Epoch 49/300\n",
            "1/1 [==============================] - 0s 96ms/step - loss: 0.5895 - accuracy: 0.8235 - val_loss: 0.7650 - val_accuracy: 0.6250\n",
            "Epoch 50/300\n",
            "1/1 [==============================] - 0s 106ms/step - loss: 0.5430 - accuracy: 0.8235 - val_loss: 0.6785 - val_accuracy: 1.0000\n",
            "Epoch 51/300\n",
            "1/1 [==============================] - 0s 103ms/step - loss: 0.4899 - accuracy: 1.0000 - val_loss: 0.5972 - val_accuracy: 1.0000\n",
            "Epoch 52/300\n",
            "1/1 [==============================] - 0s 100ms/step - loss: 0.4302 - accuracy: 1.0000 - val_loss: 0.5697 - val_accuracy: 1.0000\n",
            "Epoch 53/300\n",
            "1/1 [==============================] - 0s 106ms/step - loss: 0.3708 - accuracy: 1.0000 - val_loss: 0.6247 - val_accuracy: 0.8750\n",
            "Epoch 54/300\n",
            "1/1 [==============================] - 0s 122ms/step - loss: 0.2991 - accuracy: 1.0000 - val_loss: 0.6033 - val_accuracy: 0.8750\n",
            "Epoch 55/300\n",
            "1/1 [==============================] - 0s 103ms/step - loss: 0.2239 - accuracy: 1.0000 - val_loss: 0.5225 - val_accuracy: 0.7500\n",
            "Epoch 56/300\n",
            "1/1 [==============================] - 0s 114ms/step - loss: 0.1804 - accuracy: 0.9412 - val_loss: 1.5976 - val_accuracy: 0.6250\n",
            "Epoch 57/300\n",
            "1/1 [==============================] - 0s 102ms/step - loss: 0.1695 - accuracy: 0.8235 - val_loss: 7.7227 - val_accuracy: 0.6250\n",
            "Epoch 58/300\n",
            "1/1 [==============================] - 0s 107ms/step - loss: 0.3401 - accuracy: 0.7647 - val_loss: 5.3259 - val_accuracy: 0.3750\n",
            "Epoch 59/300\n",
            "1/1 [==============================] - 0s 114ms/step - loss: 2.0100 - accuracy: 0.8235 - val_loss: 0.7258 - val_accuracy: 0.6250\n",
            "Epoch 60/300\n",
            "1/1 [==============================] - 0s 112ms/step - loss: 0.3566 - accuracy: 0.8824 - val_loss: 0.7123 - val_accuracy: 0.7500\n",
            "Epoch 61/300\n",
            "1/1 [==============================] - 0s 127ms/step - loss: 0.2850 - accuracy: 0.9412 - val_loss: 1.2934 - val_accuracy: 0.5000\n",
            "Epoch 62/300\n",
            "1/1 [==============================] - 0s 107ms/step - loss: 0.4484 - accuracy: 0.8235 - val_loss: 1.5456 - val_accuracy: 0.5000\n",
            "Epoch 63/300\n",
            "1/1 [==============================] - 0s 114ms/step - loss: 0.6826 - accuracy: 0.6471 - val_loss: 1.5049 - val_accuracy: 0.5000\n",
            "Epoch 64/300\n",
            "1/1 [==============================] - 0s 128ms/step - loss: 0.8604 - accuracy: 0.6471 - val_loss: 1.3950 - val_accuracy: 0.5000\n",
            "Epoch 65/300\n",
            "1/1 [==============================] - 0s 151ms/step - loss: 0.9016 - accuracy: 0.6471 - val_loss: 1.2762 - val_accuracy: 0.5000\n",
            "Epoch 66/300\n",
            "1/1 [==============================] - 0s 175ms/step - loss: 0.8873 - accuracy: 0.6471 - val_loss: 1.1630 - val_accuracy: 0.5000\n",
            "Epoch 67/300\n",
            "1/1 [==============================] - 0s 150ms/step - loss: 0.8647 - accuracy: 0.5882 - val_loss: 1.0621 - val_accuracy: 0.6250\n",
            "Epoch 68/300\n",
            "1/1 [==============================] - 0s 153ms/step - loss: 0.8369 - accuracy: 0.5882 - val_loss: 0.9888 - val_accuracy: 0.8750\n",
            "Epoch 69/300\n",
            "1/1 [==============================] - 0s 176ms/step - loss: 0.7974 - accuracy: 0.5882 - val_loss: 0.9280 - val_accuracy: 0.8750\n",
            "Epoch 70/300\n",
            "1/1 [==============================] - 0s 198ms/step - loss: 0.7450 - accuracy: 0.6471 - val_loss: 0.8822 - val_accuracy: 0.8750\n",
            "Epoch 71/300\n",
            "1/1 [==============================] - 0s 156ms/step - loss: 0.6811 - accuracy: 0.8235 - val_loss: 0.8394 - val_accuracy: 0.8750\n",
            "Epoch 72/300\n",
            "1/1 [==============================] - 0s 143ms/step - loss: 0.6148 - accuracy: 0.8235 - val_loss: 0.8049 - val_accuracy: 0.6250\n",
            "Epoch 73/300\n",
            "1/1 [==============================] - 0s 147ms/step - loss: 0.5661 - accuracy: 0.8235 - val_loss: 0.7833 - val_accuracy: 0.6250\n",
            "Epoch 74/300\n",
            "1/1 [==============================] - 0s 147ms/step - loss: 0.5463 - accuracy: 0.7647 - val_loss: 0.7800 - val_accuracy: 0.6250\n",
            "Epoch 75/300\n",
            "1/1 [==============================] - 0s 146ms/step - loss: 0.5471 - accuracy: 0.8235 - val_loss: 0.7919 - val_accuracy: 0.6250\n",
            "Epoch 76/300\n",
            "1/1 [==============================] - 0s 161ms/step - loss: 0.5550 - accuracy: 0.8235 - val_loss: 0.8174 - val_accuracy: 0.6250\n",
            "Epoch 77/300\n",
            "1/1 [==============================] - 0s 144ms/step - loss: 0.5606 - accuracy: 0.8235 - val_loss: 0.8462 - val_accuracy: 0.6250\n",
            "Epoch 78/300\n",
            "1/1 [==============================] - 0s 139ms/step - loss: 0.5615 - accuracy: 0.8235 - val_loss: 0.8584 - val_accuracy: 0.6250\n",
            "Epoch 79/300\n",
            "1/1 [==============================] - 0s 152ms/step - loss: 0.5508 - accuracy: 0.8235 - val_loss: 0.8432 - val_accuracy: 0.6250\n",
            "Epoch 80/300\n",
            "1/1 [==============================] - 0s 171ms/step - loss: 0.5245 - accuracy: 0.8235 - val_loss: 0.8066 - val_accuracy: 0.6250\n",
            "Epoch 81/300\n",
            "1/1 [==============================] - 0s 166ms/step - loss: 0.4878 - accuracy: 0.8824 - val_loss: 0.7622 - val_accuracy: 0.6250\n",
            "Epoch 82/300\n",
            "1/1 [==============================] - 0s 173ms/step - loss: 0.4503 - accuracy: 0.8824 - val_loss: 0.7232 - val_accuracy: 0.6250\n",
            "Epoch 83/300\n",
            "1/1 [==============================] - 0s 194ms/step - loss: 0.4187 - accuracy: 0.8824 - val_loss: 0.6912 - val_accuracy: 0.6250\n",
            "Epoch 84/300\n",
            "1/1 [==============================] - 0s 144ms/step - loss: 0.3918 - accuracy: 0.8824 - val_loss: 0.6633 - val_accuracy: 0.6250\n",
            "Epoch 85/300\n",
            "1/1 [==============================] - 0s 180ms/step - loss: 0.3682 - accuracy: 0.8824 - val_loss: 0.6397 - val_accuracy: 0.6250\n",
            "Epoch 86/300\n",
            "1/1 [==============================] - 0s 166ms/step - loss: 0.3490 - accuracy: 0.8824 - val_loss: 0.6186 - val_accuracy: 0.7500\n",
            "Epoch 87/300\n",
            "1/1 [==============================] - 0s 171ms/step - loss: 0.3288 - accuracy: 0.8824 - val_loss: 0.5978 - val_accuracy: 0.8750\n",
            "Epoch 88/300\n",
            "1/1 [==============================] - 0s 164ms/step - loss: 0.3074 - accuracy: 0.9412 - val_loss: 0.5782 - val_accuracy: 0.8750\n",
            "Epoch 89/300\n",
            "1/1 [==============================] - 0s 147ms/step - loss: 0.2860 - accuracy: 1.0000 - val_loss: 0.5608 - val_accuracy: 1.0000\n",
            "Epoch 90/300\n",
            "1/1 [==============================] - 0s 109ms/step - loss: 0.2645 - accuracy: 1.0000 - val_loss: 0.5464 - val_accuracy: 1.0000\n",
            "Epoch 91/300\n",
            "1/1 [==============================] - 0s 104ms/step - loss: 0.2442 - accuracy: 1.0000 - val_loss: 0.5350 - val_accuracy: 0.8750\n",
            "Epoch 92/300\n",
            "1/1 [==============================] - 0s 104ms/step - loss: 0.2254 - accuracy: 1.0000 - val_loss: 0.5255 - val_accuracy: 0.8750\n",
            "Epoch 93/300\n",
            "1/1 [==============================] - 0s 102ms/step - loss: 0.2069 - accuracy: 1.0000 - val_loss: 0.5124 - val_accuracy: 0.8750\n",
            "Epoch 94/300\n",
            "1/1 [==============================] - 0s 104ms/step - loss: 0.1884 - accuracy: 1.0000 - val_loss: 0.4869 - val_accuracy: 0.8750\n",
            "Epoch 95/300\n",
            "1/1 [==============================] - 0s 105ms/step - loss: 0.1694 - accuracy: 1.0000 - val_loss: 0.4434 - val_accuracy: 0.8750\n",
            "Epoch 96/300\n",
            "1/1 [==============================] - 0s 103ms/step - loss: 0.1497 - accuracy: 1.0000 - val_loss: 0.3839 - val_accuracy: 0.8750\n",
            "Epoch 97/300\n",
            "1/1 [==============================] - 0s 115ms/step - loss: 0.1290 - accuracy: 1.0000 - val_loss: 0.3194 - val_accuracy: 1.0000\n",
            "Epoch 98/300\n",
            "1/1 [==============================] - 0s 96ms/step - loss: 0.1062 - accuracy: 1.0000 - val_loss: 0.2578 - val_accuracy: 1.0000\n",
            "Epoch 99/300\n",
            "1/1 [==============================] - 0s 100ms/step - loss: 0.0834 - accuracy: 1.0000 - val_loss: 0.2041 - val_accuracy: 1.0000\n",
            "Epoch 100/300\n",
            "1/1 [==============================] - 0s 95ms/step - loss: 0.0633 - accuracy: 1.0000 - val_loss: 0.1629 - val_accuracy: 1.0000\n",
            "Epoch 101/300\n",
            "1/1 [==============================] - 0s 107ms/step - loss: 0.0471 - accuracy: 1.0000 - val_loss: 0.1328 - val_accuracy: 1.0000\n",
            "Epoch 102/300\n",
            "1/1 [==============================] - 0s 100ms/step - loss: 2.0305 - accuracy: 0.8824 - val_loss: 1.8946 - val_accuracy: 0.8750\n",
            "Epoch 103/300\n",
            "1/1 [==============================] - 0s 102ms/step - loss: 3.1971 - accuracy: 0.7647 - val_loss: 1.2756 - val_accuracy: 0.7500\n",
            "Epoch 104/300\n",
            "1/1 [==============================] - 0s 104ms/step - loss: 1.8912 - accuracy: 0.5882 - val_loss: 0.8995 - val_accuracy: 0.8750\n",
            "Epoch 105/300\n",
            "1/1 [==============================] - 0s 102ms/step - loss: 1.2636 - accuracy: 0.7059 - val_loss: 0.7634 - val_accuracy: 0.7500\n",
            "Epoch 106/300\n",
            "1/1 [==============================] - 0s 105ms/step - loss: 0.9882 - accuracy: 0.7059 - val_loss: 0.8235 - val_accuracy: 0.7500\n",
            "Epoch 107/300\n",
            "1/1 [==============================] - 0s 112ms/step - loss: 0.9526 - accuracy: 0.7059 - val_loss: 0.8885 - val_accuracy: 0.7500\n",
            "Epoch 108/300\n",
            "1/1 [==============================] - 0s 94ms/step - loss: 0.9879 - accuracy: 0.5882 - val_loss: 0.9112 - val_accuracy: 0.7500\n",
            "Epoch 109/300\n",
            "1/1 [==============================] - 0s 107ms/step - loss: 0.9985 - accuracy: 0.5882 - val_loss: 0.8857 - val_accuracy: 0.7500\n",
            "Epoch 110/300\n",
            "1/1 [==============================] - 0s 95ms/step - loss: 0.9693 - accuracy: 0.5882 - val_loss: 0.8232 - val_accuracy: 0.7500\n",
            "Epoch 111/300\n",
            "1/1 [==============================] - 0s 103ms/step - loss: 0.9098 - accuracy: 0.5882 - val_loss: 0.7538 - val_accuracy: 0.7500\n",
            "Epoch 112/300\n",
            "1/1 [==============================] - 0s 102ms/step - loss: 0.8413 - accuracy: 0.6471 - val_loss: 0.7015 - val_accuracy: 0.7500\n",
            "Epoch 113/300\n",
            "1/1 [==============================] - 0s 98ms/step - loss: 0.7741 - accuracy: 0.8235 - val_loss: 0.6662 - val_accuracy: 0.7500\n",
            "Epoch 114/300\n",
            "1/1 [==============================] - 0s 97ms/step - loss: 0.7111 - accuracy: 0.8235 - val_loss: 0.6462 - val_accuracy: 1.0000\n",
            "Epoch 115/300\n",
            "1/1 [==============================] - 0s 100ms/step - loss: 0.6567 - accuracy: 0.9412 - val_loss: 0.6372 - val_accuracy: 1.0000\n",
            "Epoch 116/300\n",
            "1/1 [==============================] - 0s 108ms/step - loss: 0.6067 - accuracy: 0.9412 - val_loss: 0.6348 - val_accuracy: 1.0000\n",
            "Epoch 117/300\n",
            "1/1 [==============================] - 0s 130ms/step - loss: 0.5612 - accuracy: 1.0000 - val_loss: 0.6099 - val_accuracy: 1.0000\n",
            "Epoch 118/300\n",
            "1/1 [==============================] - 0s 116ms/step - loss: 0.5189 - accuracy: 0.9412 - val_loss: 0.5671 - val_accuracy: 1.0000\n",
            "Epoch 119/300\n",
            "1/1 [==============================] - 0s 113ms/step - loss: 0.4816 - accuracy: 0.9412 - val_loss: 0.5170 - val_accuracy: 1.0000\n",
            "Epoch 120/300\n",
            "1/1 [==============================] - 0s 117ms/step - loss: 0.4592 - accuracy: 0.9412 - val_loss: 0.4602 - val_accuracy: 1.0000\n",
            "Epoch 121/300\n",
            "1/1 [==============================] - 0s 121ms/step - loss: 0.4570 - accuracy: 0.8824 - val_loss: 0.4107 - val_accuracy: 1.0000\n",
            "Epoch 122/300\n",
            "1/1 [==============================] - 0s 113ms/step - loss: 0.4592 - accuracy: 0.8824 - val_loss: 0.3710 - val_accuracy: 1.0000\n",
            "Epoch 123/300\n",
            "1/1 [==============================] - 0s 122ms/step - loss: 0.4427 - accuracy: 0.8824 - val_loss: 0.7194 - val_accuracy: 0.8750\n",
            "Epoch 124/300\n",
            "1/1 [==============================] - 0s 109ms/step - loss: 6.4354 - accuracy: 0.7059 - val_loss: 0.5716 - val_accuracy: 1.0000\n",
            "Epoch 125/300\n",
            "1/1 [==============================] - 0s 128ms/step - loss: 0.5193 - accuracy: 0.8235 - val_loss: 1.1713 - val_accuracy: 0.6250\n",
            "Epoch 126/300\n",
            "1/1 [==============================] - 0s 103ms/step - loss: 0.7049 - accuracy: 0.7059 - val_loss: 1.7307 - val_accuracy: 0.3750\n",
            "Epoch 127/300\n",
            "1/1 [==============================] - 0s 96ms/step - loss: 1.2103 - accuracy: 0.4118 - val_loss: 1.7842 - val_accuracy: 0.3750\n",
            "Epoch 128/300\n",
            "1/1 [==============================] - 0s 120ms/step - loss: 1.4356 - accuracy: 0.4118 - val_loss: 1.7744 - val_accuracy: 0.3750\n",
            "Epoch 129/300\n",
            "1/1 [==============================] - 0s 154ms/step - loss: 1.4422 - accuracy: 0.4118 - val_loss: 1.7489 - val_accuracy: 0.3750\n",
            "Epoch 130/300\n",
            "1/1 [==============================] - 0s 160ms/step - loss: 1.4115 - accuracy: 0.4118 - val_loss: 1.7229 - val_accuracy: 0.3750\n",
            "Epoch 131/300\n",
            "1/1 [==============================] - 0s 164ms/step - loss: 1.3833 - accuracy: 0.4118 - val_loss: 1.6982 - val_accuracy: 0.3750\n",
            "Epoch 132/300\n",
            "1/1 [==============================] - 0s 160ms/step - loss: 1.3557 - accuracy: 0.4118 - val_loss: 1.6754 - val_accuracy: 0.3750\n",
            "Epoch 133/300\n",
            "1/1 [==============================] - 0s 166ms/step - loss: 1.3313 - accuracy: 0.4118 - val_loss: 1.6547 - val_accuracy: 0.3750\n",
            "Epoch 134/300\n",
            "1/1 [==============================] - 0s 146ms/step - loss: 1.3120 - accuracy: 0.4118 - val_loss: 1.6363 - val_accuracy: 0.3750\n",
            "Epoch 135/300\n",
            "1/1 [==============================] - 0s 144ms/step - loss: 1.2979 - accuracy: 0.4118 - val_loss: 1.6196 - val_accuracy: 0.3750\n",
            "Epoch 136/300\n",
            "1/1 [==============================] - 0s 147ms/step - loss: 1.2865 - accuracy: 0.4118 - val_loss: 1.6048 - val_accuracy: 0.3750\n",
            "Epoch 137/300\n",
            "1/1 [==============================] - 0s 157ms/step - loss: 1.2764 - accuracy: 0.4118 - val_loss: 1.5907 - val_accuracy: 0.3750\n",
            "Epoch 138/300\n",
            "1/1 [==============================] - 0s 141ms/step - loss: 1.2670 - accuracy: 0.4118 - val_loss: 1.5768 - val_accuracy: 0.3750\n",
            "Epoch 139/300\n",
            "1/1 [==============================] - 0s 164ms/step - loss: 1.2577 - accuracy: 0.4706 - val_loss: 1.5630 - val_accuracy: 0.3750\n",
            "Epoch 140/300\n",
            "1/1 [==============================] - 0s 145ms/step - loss: 1.2482 - accuracy: 0.4706 - val_loss: 1.5491 - val_accuracy: 0.3750\n",
            "Epoch 141/300\n",
            "1/1 [==============================] - 0s 142ms/step - loss: 1.2380 - accuracy: 0.4706 - val_loss: 1.5349 - val_accuracy: 0.3750\n",
            "Epoch 142/300\n",
            "1/1 [==============================] - 0s 143ms/step - loss: 1.2265 - accuracy: 0.4706 - val_loss: 1.5203 - val_accuracy: 0.3750\n",
            "Epoch 143/300\n",
            "1/1 [==============================] - 0s 154ms/step - loss: 1.2141 - accuracy: 0.5294 - val_loss: 1.5056 - val_accuracy: 0.3750\n",
            "Epoch 144/300\n",
            "1/1 [==============================] - 0s 167ms/step - loss: 1.2017 - accuracy: 0.5294 - val_loss: 1.4907 - val_accuracy: 0.5000\n",
            "Epoch 145/300\n",
            "1/1 [==============================] - 0s 162ms/step - loss: 1.1905 - accuracy: 0.5294 - val_loss: 1.4770 - val_accuracy: 0.5000\n",
            "Epoch 146/300\n",
            "1/1 [==============================] - 0s 167ms/step - loss: 1.1809 - accuracy: 0.5294 - val_loss: 1.4631 - val_accuracy: 0.5000\n",
            "Epoch 147/300\n",
            "1/1 [==============================] - 0s 165ms/step - loss: 1.1755 - accuracy: 0.5882 - val_loss: 1.4511 - val_accuracy: 0.3750\n",
            "Epoch 148/300\n",
            "1/1 [==============================] - 0s 174ms/step - loss: 1.1691 - accuracy: 0.5294 - val_loss: 1.4404 - val_accuracy: 0.2500\n",
            "Epoch 149/300\n",
            "1/1 [==============================] - 0s 160ms/step - loss: 1.1611 - accuracy: 0.5294 - val_loss: 1.4300 - val_accuracy: 0.2500\n",
            "Epoch 150/300\n",
            "1/1 [==============================] - 0s 159ms/step - loss: 1.1512 - accuracy: 0.5294 - val_loss: 1.4191 - val_accuracy: 0.2500\n",
            "Epoch 151/300\n",
            "1/1 [==============================] - 0s 201ms/step - loss: 1.1381 - accuracy: 0.4706 - val_loss: 1.4069 - val_accuracy: 0.2500\n",
            "Epoch 152/300\n",
            "1/1 [==============================] - 0s 158ms/step - loss: 1.1245 - accuracy: 0.4706 - val_loss: 1.3903 - val_accuracy: 0.3750\n",
            "Epoch 153/300\n",
            "1/1 [==============================] - 0s 162ms/step - loss: 1.1090 - accuracy: 0.4706 - val_loss: 1.3723 - val_accuracy: 0.3750\n",
            "Epoch 154/300\n",
            "1/1 [==============================] - 0s 156ms/step - loss: 1.0915 - accuracy: 0.4118 - val_loss: 1.3506 - val_accuracy: 0.3750\n",
            "Epoch 155/300\n",
            "1/1 [==============================] - 0s 119ms/step - loss: 1.0694 - accuracy: 0.4118 - val_loss: 1.3249 - val_accuracy: 0.3750\n",
            "Epoch 156/300\n",
            "1/1 [==============================] - 0s 93ms/step - loss: 1.0405 - accuracy: 0.5882 - val_loss: 1.2943 - val_accuracy: 0.3750\n",
            "Epoch 157/300\n",
            "1/1 [==============================] - 0s 117ms/step - loss: 1.0060 - accuracy: 0.5882 - val_loss: 1.2572 - val_accuracy: 0.3750\n",
            "Epoch 158/300\n",
            "1/1 [==============================] - 0s 105ms/step - loss: 0.9689 - accuracy: 0.6471 - val_loss: 1.2300 - val_accuracy: 0.3750\n",
            "Epoch 159/300\n",
            "1/1 [==============================] - 0s 112ms/step - loss: 0.9263 - accuracy: 0.5882 - val_loss: 1.2066 - val_accuracy: 0.3750\n",
            "Epoch 160/300\n",
            "1/1 [==============================] - 0s 99ms/step - loss: 0.8787 - accuracy: 0.5882 - val_loss: 1.1856 - val_accuracy: 0.3750\n",
            "Epoch 161/300\n",
            "1/1 [==============================] - 0s 102ms/step - loss: 0.8299 - accuracy: 0.5882 - val_loss: 1.1613 - val_accuracy: 0.3750\n",
            "Epoch 162/300\n",
            "1/1 [==============================] - 0s 101ms/step - loss: 0.7752 - accuracy: 0.5882 - val_loss: 1.1308 - val_accuracy: 0.3750\n",
            "Epoch 163/300\n",
            "1/1 [==============================] - 0s 110ms/step - loss: 0.7150 - accuracy: 0.6471 - val_loss: 1.0905 - val_accuracy: 0.3750\n",
            "Epoch 164/300\n",
            "1/1 [==============================] - 0s 116ms/step - loss: 0.6572 - accuracy: 0.6471 - val_loss: 1.0482 - val_accuracy: 0.3750\n",
            "Epoch 165/300\n",
            "1/1 [==============================] - 0s 104ms/step - loss: 0.6087 - accuracy: 0.7059 - val_loss: 1.0056 - val_accuracy: 0.3750\n",
            "Epoch 166/300\n",
            "1/1 [==============================] - 0s 137ms/step - loss: 0.5691 - accuracy: 0.7647 - val_loss: 0.9623 - val_accuracy: 0.5000\n",
            "Epoch 167/300\n",
            "1/1 [==============================] - 0s 159ms/step - loss: 0.5338 - accuracy: 0.7647 - val_loss: 0.9203 - val_accuracy: 0.5000\n",
            "Epoch 168/300\n",
            "1/1 [==============================] - 0s 212ms/step - loss: 0.5014 - accuracy: 0.8235 - val_loss: 0.8773 - val_accuracy: 0.5000\n",
            "Epoch 169/300\n",
            "1/1 [==============================] - 0s 185ms/step - loss: 0.4675 - accuracy: 0.8235 - val_loss: 0.8325 - val_accuracy: 0.5000\n",
            "Epoch 170/300\n",
            "1/1 [==============================] - 0s 172ms/step - loss: 0.4273 - accuracy: 0.8824 - val_loss: 0.7797 - val_accuracy: 0.5000\n",
            "Epoch 171/300\n",
            "1/1 [==============================] - 0s 191ms/step - loss: 0.3784 - accuracy: 0.8824 - val_loss: 0.7121 - val_accuracy: 0.6250\n",
            "Epoch 172/300\n",
            "1/1 [==============================] - 0s 174ms/step - loss: 0.3226 - accuracy: 0.8824 - val_loss: 0.6349 - val_accuracy: 0.5000\n",
            "Epoch 173/300\n",
            "1/1 [==============================] - 0s 197ms/step - loss: 0.2613 - accuracy: 1.0000 - val_loss: 0.5514 - val_accuracy: 0.6250\n",
            "Epoch 174/300\n",
            "1/1 [==============================] - 0s 143ms/step - loss: 0.2072 - accuracy: 0.9412 - val_loss: 0.4400 - val_accuracy: 0.7500\n",
            "Epoch 175/300\n",
            "1/1 [==============================] - 0s 156ms/step - loss: 0.5098 - accuracy: 0.8824 - val_loss: 1.9522 - val_accuracy: 0.6250\n",
            "Epoch 176/300\n",
            "1/1 [==============================] - 0s 229ms/step - loss: 1.3279 - accuracy: 0.7059 - val_loss: 0.3693 - val_accuracy: 0.8750\n",
            "Epoch 177/300\n",
            "1/1 [==============================] - 0s 153ms/step - loss: 0.1867 - accuracy: 1.0000 - val_loss: 3.3122 - val_accuracy: 0.3750\n",
            "Epoch 178/300\n",
            "1/1 [==============================] - 0s 168ms/step - loss: 1.5268 - accuracy: 0.8235 - val_loss: 0.8485 - val_accuracy: 0.8750\n",
            "Epoch 179/300\n",
            "1/1 [==============================] - 0s 159ms/step - loss: 0.4109 - accuracy: 0.8824 - val_loss: 0.3020 - val_accuracy: 1.0000\n",
            "Epoch 180/300\n",
            "1/1 [==============================] - 0s 153ms/step - loss: 0.2175 - accuracy: 1.0000 - val_loss: 0.7020 - val_accuracy: 0.8750\n",
            "Epoch 181/300\n",
            "1/1 [==============================] - 0s 141ms/step - loss: 0.4781 - accuracy: 0.8824 - val_loss: 0.8304 - val_accuracy: 0.7500\n",
            "Epoch 182/300\n",
            "1/1 [==============================] - 0s 164ms/step - loss: 0.7083 - accuracy: 0.7647 - val_loss: 0.7496 - val_accuracy: 0.8750\n",
            "Epoch 183/300\n",
            "1/1 [==============================] - 0s 196ms/step - loss: 0.5526 - accuracy: 0.7647 - val_loss: 0.4590 - val_accuracy: 1.0000\n",
            "Epoch 184/300\n",
            "1/1 [==============================] - 0s 201ms/step - loss: 0.3219 - accuracy: 1.0000 - val_loss: 0.3615 - val_accuracy: 1.0000\n",
            "Epoch 185/300\n",
            "1/1 [==============================] - 0s 168ms/step - loss: 0.2712 - accuracy: 1.0000 - val_loss: 0.3888 - val_accuracy: 0.8750\n",
            "Epoch 186/300\n",
            "1/1 [==============================] - 0s 168ms/step - loss: 0.2793 - accuracy: 1.0000 - val_loss: 0.5202 - val_accuracy: 0.8750\n",
            "Epoch 187/300\n",
            "1/1 [==============================] - 0s 151ms/step - loss: 0.3245 - accuracy: 0.8824 - val_loss: 0.6805 - val_accuracy: 0.6250\n",
            "Epoch 188/300\n",
            "1/1 [==============================] - 0s 154ms/step - loss: 0.3836 - accuracy: 0.8824 - val_loss: 0.7199 - val_accuracy: 0.6250\n",
            "Epoch 189/300\n",
            "1/1 [==============================] - 0s 154ms/step - loss: 0.3978 - accuracy: 0.8235 - val_loss: 0.5738 - val_accuracy: 0.7500\n",
            "Epoch 190/300\n",
            "1/1 [==============================] - 0s 148ms/step - loss: 0.3358 - accuracy: 0.8824 - val_loss: 0.4283 - val_accuracy: 0.8750\n",
            "Epoch 191/300\n",
            "1/1 [==============================] - 0s 114ms/step - loss: 0.2727 - accuracy: 0.9412 - val_loss: 0.3426 - val_accuracy: 1.0000\n",
            "Epoch 192/300\n",
            "1/1 [==============================] - 0s 117ms/step - loss: 0.2356 - accuracy: 1.0000 - val_loss: 0.3053 - val_accuracy: 1.0000\n",
            "Epoch 193/300\n",
            "1/1 [==============================] - 0s 102ms/step - loss: 0.2167 - accuracy: 1.0000 - val_loss: 0.3001 - val_accuracy: 1.0000\n",
            "Epoch 194/300\n",
            "1/1 [==============================] - 0s 96ms/step - loss: 0.2107 - accuracy: 1.0000 - val_loss: 0.3128 - val_accuracy: 1.0000\n",
            "Epoch 195/300\n",
            "1/1 [==============================] - 0s 102ms/step - loss: 0.2112 - accuracy: 1.0000 - val_loss: 0.3309 - val_accuracy: 1.0000\n",
            "Epoch 196/300\n",
            "1/1 [==============================] - 0s 97ms/step - loss: 0.2117 - accuracy: 1.0000 - val_loss: 0.3389 - val_accuracy: 1.0000\n",
            "Epoch 197/300\n",
            "1/1 [==============================] - 0s 99ms/step - loss: 0.2049 - accuracy: 1.0000 - val_loss: 0.3315 - val_accuracy: 1.0000\n",
            "Epoch 198/300\n",
            "1/1 [==============================] - 0s 107ms/step - loss: 0.1883 - accuracy: 1.0000 - val_loss: 0.3089 - val_accuracy: 1.0000\n",
            "Epoch 199/300\n",
            "1/1 [==============================] - 0s 99ms/step - loss: 0.1673 - accuracy: 1.0000 - val_loss: 0.2769 - val_accuracy: 1.0000\n",
            "Epoch 200/300\n",
            "1/1 [==============================] - 0s 109ms/step - loss: 0.1471 - accuracy: 1.0000 - val_loss: 0.2420 - val_accuracy: 1.0000\n",
            "Epoch 201/300\n",
            "1/1 [==============================] - 0s 116ms/step - loss: 0.1304 - accuracy: 1.0000 - val_loss: 0.2106 - val_accuracy: 1.0000\n",
            "Epoch 202/300\n",
            "1/1 [==============================] - 0s 105ms/step - loss: 0.1176 - accuracy: 1.0000 - val_loss: 0.1887 - val_accuracy: 1.0000\n",
            "Epoch 203/300\n",
            "1/1 [==============================] - 0s 110ms/step - loss: 0.1082 - accuracy: 1.0000 - val_loss: 0.1733 - val_accuracy: 1.0000\n",
            "Epoch 204/300\n",
            "1/1 [==============================] - 0s 105ms/step - loss: 0.1021 - accuracy: 1.0000 - val_loss: 0.1626 - val_accuracy: 1.0000\n",
            "Epoch 205/300\n",
            "1/1 [==============================] - 0s 108ms/step - loss: 0.0980 - accuracy: 1.0000 - val_loss: 0.1555 - val_accuracy: 1.0000\n",
            "Epoch 206/300\n",
            "1/1 [==============================] - 0s 104ms/step - loss: 0.0939 - accuracy: 1.0000 - val_loss: 0.1484 - val_accuracy: 1.0000\n",
            "Epoch 207/300\n",
            "1/1 [==============================] - 0s 93ms/step - loss: 0.0890 - accuracy: 1.0000 - val_loss: 0.1402 - val_accuracy: 1.0000\n",
            "Epoch 208/300\n",
            "1/1 [==============================] - 0s 108ms/step - loss: 0.0828 - accuracy: 1.0000 - val_loss: 0.1304 - val_accuracy: 1.0000\n",
            "Epoch 209/300\n",
            "1/1 [==============================] - 0s 98ms/step - loss: 0.0756 - accuracy: 1.0000 - val_loss: 0.1195 - val_accuracy: 1.0000\n",
            "Epoch 210/300\n",
            "1/1 [==============================] - 0s 96ms/step - loss: 0.0678 - accuracy: 1.0000 - val_loss: 0.1083 - val_accuracy: 1.0000\n",
            "Epoch 211/300\n",
            "1/1 [==============================] - 0s 131ms/step - loss: 0.0600 - accuracy: 1.0000 - val_loss: 0.0983 - val_accuracy: 1.0000\n",
            "Epoch 212/300\n",
            "1/1 [==============================] - 0s 115ms/step - loss: 0.0529 - accuracy: 1.0000 - val_loss: 0.0902 - val_accuracy: 1.0000\n",
            "Epoch 213/300\n",
            "1/1 [==============================] - 0s 111ms/step - loss: 0.0466 - accuracy: 1.0000 - val_loss: 0.0838 - val_accuracy: 1.0000\n",
            "Epoch 214/300\n",
            "1/1 [==============================] - 0s 98ms/step - loss: 0.0411 - accuracy: 1.0000 - val_loss: 0.0790 - val_accuracy: 1.0000\n",
            "Epoch 215/300\n",
            "1/1 [==============================] - 0s 112ms/step - loss: 0.0363 - accuracy: 1.0000 - val_loss: 0.0755 - val_accuracy: 1.0000\n",
            "Epoch 216/300\n",
            "1/1 [==============================] - 0s 97ms/step - loss: 0.0323 - accuracy: 1.0000 - val_loss: 0.0728 - val_accuracy: 1.0000\n",
            "Epoch 217/300\n",
            "1/1 [==============================] - 0s 109ms/step - loss: 0.0289 - accuracy: 1.0000 - val_loss: 0.0704 - val_accuracy: 1.0000\n",
            "Epoch 218/300\n",
            "1/1 [==============================] - 0s 111ms/step - loss: 0.0258 - accuracy: 1.0000 - val_loss: 0.0677 - val_accuracy: 1.0000\n",
            "Epoch 219/300\n",
            "1/1 [==============================] - 0s 105ms/step - loss: 0.0232 - accuracy: 1.0000 - val_loss: 0.0642 - val_accuracy: 1.0000\n",
            "Epoch 220/300\n",
            "1/1 [==============================] - 0s 118ms/step - loss: 0.0210 - accuracy: 1.0000 - val_loss: 0.0597 - val_accuracy: 1.0000\n",
            "Epoch 221/300\n",
            "1/1 [==============================] - 0s 110ms/step - loss: 0.0189 - accuracy: 1.0000 - val_loss: 0.0540 - val_accuracy: 1.0000\n",
            "Epoch 222/300\n",
            "1/1 [==============================] - 0s 99ms/step - loss: 0.0171 - accuracy: 1.0000 - val_loss: 0.0473 - val_accuracy: 1.0000\n",
            "Epoch 223/300\n",
            "1/1 [==============================] - 0s 104ms/step - loss: 0.0154 - accuracy: 1.0000 - val_loss: 0.0401 - val_accuracy: 1.0000\n",
            "Epoch 224/300\n",
            "1/1 [==============================] - 0s 110ms/step - loss: 0.0137 - accuracy: 1.0000 - val_loss: 0.0329 - val_accuracy: 1.0000\n",
            "Epoch 225/300\n",
            "1/1 [==============================] - 0s 106ms/step - loss: 0.0122 - accuracy: 1.0000 - val_loss: 0.0262 - val_accuracy: 1.0000\n",
            "Epoch 226/300\n",
            "1/1 [==============================] - 0s 107ms/step - loss: 0.0107 - accuracy: 1.0000 - val_loss: 0.0204 - val_accuracy: 1.0000\n",
            "Epoch 227/300\n",
            "1/1 [==============================] - 0s 101ms/step - loss: 0.0094 - accuracy: 1.0000 - val_loss: 0.0158 - val_accuracy: 1.0000\n",
            "Epoch 228/300\n",
            "1/1 [==============================] - 0s 108ms/step - loss: 0.0082 - accuracy: 1.0000 - val_loss: 0.0124 - val_accuracy: 1.0000\n",
            "Epoch 229/300\n",
            "1/1 [==============================] - 0s 125ms/step - loss: 0.0071 - accuracy: 1.0000 - val_loss: 0.0100 - val_accuracy: 1.0000\n",
            "Epoch 230/300\n",
            "1/1 [==============================] - 0s 104ms/step - loss: 0.0061 - accuracy: 1.0000 - val_loss: 0.0082 - val_accuracy: 1.0000\n",
            "Epoch 231/300\n",
            "1/1 [==============================] - 0s 111ms/step - loss: 0.0053 - accuracy: 1.0000 - val_loss: 0.0068 - val_accuracy: 1.0000\n",
            "Epoch 232/300\n",
            "1/1 [==============================] - 0s 113ms/step - loss: 0.0045 - accuracy: 1.0000 - val_loss: 0.0057 - val_accuracy: 1.0000\n",
            "Epoch 233/300\n",
            "1/1 [==============================] - 0s 116ms/step - loss: 0.0039 - accuracy: 1.0000 - val_loss: 0.0049 - val_accuracy: 1.0000\n",
            "Epoch 234/300\n",
            "1/1 [==============================] - 0s 104ms/step - loss: 0.0034 - accuracy: 1.0000 - val_loss: 0.0043 - val_accuracy: 1.0000\n",
            "Epoch 235/300\n",
            "1/1 [==============================] - 0s 99ms/step - loss: 0.0030 - accuracy: 1.0000 - val_loss: 0.0038 - val_accuracy: 1.0000\n",
            "Epoch 236/300\n",
            "1/1 [==============================] - 0s 103ms/step - loss: 0.0026 - accuracy: 1.0000 - val_loss: 0.0034 - val_accuracy: 1.0000\n",
            "Epoch 237/300\n",
            "1/1 [==============================] - 0s 104ms/step - loss: 0.0023 - accuracy: 1.0000 - val_loss: 0.0030 - val_accuracy: 1.0000\n",
            "Epoch 238/300\n",
            "1/1 [==============================] - 0s 122ms/step - loss: 0.0021 - accuracy: 1.0000 - val_loss: 0.0027 - val_accuracy: 1.0000\n",
            "Epoch 239/300\n",
            "1/1 [==============================] - 0s 107ms/step - loss: 0.0019 - accuracy: 1.0000 - val_loss: 0.0025 - val_accuracy: 1.0000\n",
            "Epoch 240/300\n",
            "1/1 [==============================] - 0s 107ms/step - loss: 0.0017 - accuracy: 1.0000 - val_loss: 0.0023 - val_accuracy: 1.0000\n",
            "Epoch 241/300\n",
            "1/1 [==============================] - 0s 101ms/step - loss: 0.0015 - accuracy: 1.0000 - val_loss: 0.0021 - val_accuracy: 1.0000\n",
            "Epoch 242/300\n",
            "1/1 [==============================] - 0s 110ms/step - loss: 0.0013 - accuracy: 1.0000 - val_loss: 0.0020 - val_accuracy: 1.0000\n",
            "Epoch 243/300\n",
            "1/1 [==============================] - 0s 104ms/step - loss: 0.0012 - accuracy: 1.0000 - val_loss: 0.0020 - val_accuracy: 1.0000\n",
            "Epoch 244/300\n",
            "1/1 [==============================] - 0s 107ms/step - loss: 0.0011 - accuracy: 1.0000 - val_loss: 0.0020 - val_accuracy: 1.0000\n",
            "Epoch 245/300\n",
            "1/1 [==============================] - 0s 106ms/step - loss: 0.0010 - accuracy: 1.0000 - val_loss: 0.0021 - val_accuracy: 1.0000\n",
            "Epoch 246/300\n",
            "1/1 [==============================] - 0s 102ms/step - loss: 9.2708e-04 - accuracy: 1.0000 - val_loss: 0.0022 - val_accuracy: 1.0000\n",
            "Epoch 247/300\n",
            "1/1 [==============================] - 0s 115ms/step - loss: 8.5218e-04 - accuracy: 1.0000 - val_loss: 0.0024 - val_accuracy: 1.0000\n",
            "Epoch 248/300\n",
            "1/1 [==============================] - 0s 109ms/step - loss: 7.8644e-04 - accuracy: 1.0000 - val_loss: 0.0026 - val_accuracy: 1.0000\n",
            "Epoch 249/300\n",
            "1/1 [==============================] - 0s 108ms/step - loss: 7.3082e-04 - accuracy: 1.0000 - val_loss: 0.0030 - val_accuracy: 1.0000\n",
            "Epoch 250/300\n",
            "1/1 [==============================] - 0s 109ms/step - loss: 6.8286e-04 - accuracy: 1.0000 - val_loss: 0.0034 - val_accuracy: 1.0000\n",
            "Epoch 251/300\n",
            "1/1 [==============================] - 0s 101ms/step - loss: 6.4162e-04 - accuracy: 1.0000 - val_loss: 0.0038 - val_accuracy: 1.0000\n",
            "Epoch 252/300\n",
            "1/1 [==============================] - 0s 108ms/step - loss: 6.0583e-04 - accuracy: 1.0000 - val_loss: 0.0041 - val_accuracy: 1.0000\n",
            "Epoch 253/300\n",
            "1/1 [==============================] - 0s 114ms/step - loss: 5.7383e-04 - accuracy: 1.0000 - val_loss: 0.0042 - val_accuracy: 1.0000\n",
            "Epoch 254/300\n",
            "1/1 [==============================] - 0s 122ms/step - loss: 5.4346e-04 - accuracy: 1.0000 - val_loss: 0.0040 - val_accuracy: 1.0000\n",
            "Epoch 255/300\n",
            "1/1 [==============================] - 0s 113ms/step - loss: 5.1307e-04 - accuracy: 1.0000 - val_loss: 0.0037 - val_accuracy: 1.0000\n",
            "Epoch 256/300\n",
            "1/1 [==============================] - 0s 131ms/step - loss: 4.8268e-04 - accuracy: 1.0000 - val_loss: 0.0032 - val_accuracy: 1.0000\n",
            "Epoch 257/300\n",
            "1/1 [==============================] - 0s 102ms/step - loss: 4.5355e-04 - accuracy: 1.0000 - val_loss: 0.0028 - val_accuracy: 1.0000\n",
            "Epoch 258/300\n",
            "1/1 [==============================] - 0s 113ms/step - loss: 4.2698e-04 - accuracy: 1.0000 - val_loss: 0.0023 - val_accuracy: 1.0000\n",
            "Epoch 259/300\n",
            "1/1 [==============================] - 0s 103ms/step - loss: 4.0375e-04 - accuracy: 1.0000 - val_loss: 0.0020 - val_accuracy: 1.0000\n",
            "Epoch 260/300\n",
            "1/1 [==============================] - 0s 98ms/step - loss: 3.8350e-04 - accuracy: 1.0000 - val_loss: 0.0017 - val_accuracy: 1.0000\n",
            "Epoch 261/300\n",
            "1/1 [==============================] - 0s 109ms/step - loss: 3.6581e-04 - accuracy: 1.0000 - val_loss: 0.0015 - val_accuracy: 1.0000\n",
            "Epoch 262/300\n",
            "1/1 [==============================] - 0s 100ms/step - loss: 3.5031e-04 - accuracy: 1.0000 - val_loss: 0.0013 - val_accuracy: 1.0000\n",
            "Epoch 263/300\n",
            "1/1 [==============================] - 0s 115ms/step - loss: 3.3672e-04 - accuracy: 1.0000 - val_loss: 0.0012 - val_accuracy: 1.0000\n",
            "Epoch 264/300\n",
            "1/1 [==============================] - 0s 111ms/step - loss: 3.2504e-04 - accuracy: 1.0000 - val_loss: 0.0011 - val_accuracy: 1.0000\n",
            "Epoch 265/300\n",
            "1/1 [==============================] - 0s 138ms/step - loss: 3.1437e-04 - accuracy: 1.0000 - val_loss: 0.0010 - val_accuracy: 1.0000\n",
            "Epoch 266/300\n",
            "1/1 [==============================] - 0s 108ms/step - loss: 3.0436e-04 - accuracy: 1.0000 - val_loss: 9.6475e-04 - val_accuracy: 1.0000\n",
            "Epoch 267/300\n",
            "1/1 [==============================] - 0s 106ms/step - loss: 2.9504e-04 - accuracy: 1.0000 - val_loss: 9.1623e-04 - val_accuracy: 1.0000\n",
            "Epoch 268/300\n",
            "1/1 [==============================] - 0s 117ms/step - loss: 2.8632e-04 - accuracy: 1.0000 - val_loss: 8.7634e-04 - val_accuracy: 1.0000\n",
            "Epoch 269/300\n",
            "1/1 [==============================] - 0s 113ms/step - loss: 2.7808e-04 - accuracy: 1.0000 - val_loss: 8.4288e-04 - val_accuracy: 1.0000\n",
            "Epoch 270/300\n",
            "1/1 [==============================] - 0s 109ms/step - loss: 2.7028e-04 - accuracy: 1.0000 - val_loss: 8.1459e-04 - val_accuracy: 1.0000\n",
            "Epoch 271/300\n",
            "1/1 [==============================] - 0s 111ms/step - loss: 2.6289e-04 - accuracy: 1.0000 - val_loss: 7.9041e-04 - val_accuracy: 1.0000\n",
            "Epoch 272/300\n",
            "1/1 [==============================] - 0s 105ms/step - loss: 2.5583e-04 - accuracy: 1.0000 - val_loss: 7.6950e-04 - val_accuracy: 1.0000\n",
            "Epoch 273/300\n",
            "1/1 [==============================] - 0s 115ms/step - loss: 2.4907e-04 - accuracy: 1.0000 - val_loss: 7.5120e-04 - val_accuracy: 1.0000\n",
            "Epoch 274/300\n",
            "1/1 [==============================] - 0s 126ms/step - loss: 2.4263e-04 - accuracy: 1.0000 - val_loss: 7.3504e-04 - val_accuracy: 1.0000\n",
            "Epoch 275/300\n",
            "1/1 [==============================] - 0s 99ms/step - loss: 2.3633e-04 - accuracy: 1.0000 - val_loss: 7.2045e-04 - val_accuracy: 1.0000\n",
            "Epoch 276/300\n",
            "1/1 [==============================] - 0s 115ms/step - loss: 2.3031e-04 - accuracy: 1.0000 - val_loss: 7.0723e-04 - val_accuracy: 1.0000\n",
            "Epoch 277/300\n",
            "1/1 [==============================] - 0s 109ms/step - loss: 2.2452e-04 - accuracy: 1.0000 - val_loss: 6.9519e-04 - val_accuracy: 1.0000\n",
            "Epoch 278/300\n",
            "1/1 [==============================] - 0s 189ms/step - loss: 2.1899e-04 - accuracy: 1.0000 - val_loss: 6.8406e-04 - val_accuracy: 1.0000\n",
            "Epoch 279/300\n",
            "1/1 [==============================] - 0s 157ms/step - loss: 2.1370e-04 - accuracy: 1.0000 - val_loss: 6.7376e-04 - val_accuracy: 1.0000\n",
            "Epoch 280/300\n",
            "1/1 [==============================] - 0s 157ms/step - loss: 2.0860e-04 - accuracy: 1.0000 - val_loss: 6.6401e-04 - val_accuracy: 1.0000\n",
            "Epoch 281/300\n",
            "1/1 [==============================] - 0s 185ms/step - loss: 2.0378e-04 - accuracy: 1.0000 - val_loss: 6.5495e-04 - val_accuracy: 1.0000\n",
            "Epoch 282/300\n",
            "1/1 [==============================] - 0s 154ms/step - loss: 1.9916e-04 - accuracy: 1.0000 - val_loss: 6.4652e-04 - val_accuracy: 1.0000\n",
            "Epoch 283/300\n",
            "1/1 [==============================] - 0s 204ms/step - loss: 1.9473e-04 - accuracy: 1.0000 - val_loss: 6.3863e-04 - val_accuracy: 1.0000\n",
            "Epoch 284/300\n",
            "1/1 [==============================] - 0s 164ms/step - loss: 1.9047e-04 - accuracy: 1.0000 - val_loss: 6.3124e-04 - val_accuracy: 1.0000\n",
            "Epoch 285/300\n",
            "1/1 [==============================] - 0s 158ms/step - loss: 1.8637e-04 - accuracy: 1.0000 - val_loss: 6.2448e-04 - val_accuracy: 1.0000\n",
            "Epoch 286/300\n",
            "1/1 [==============================] - 0s 197ms/step - loss: 1.8245e-04 - accuracy: 1.0000 - val_loss: 6.1823e-04 - val_accuracy: 1.0000\n",
            "Epoch 287/300\n",
            "1/1 [==============================] - 0s 188ms/step - loss: 1.7866e-04 - accuracy: 1.0000 - val_loss: 6.1238e-04 - val_accuracy: 1.0000\n",
            "Epoch 288/300\n",
            "1/1 [==============================] - 0s 152ms/step - loss: 1.7503e-04 - accuracy: 1.0000 - val_loss: 6.0701e-04 - val_accuracy: 1.0000\n",
            "Epoch 289/300\n",
            "1/1 [==============================] - 0s 145ms/step - loss: 1.7150e-04 - accuracy: 1.0000 - val_loss: 6.0192e-04 - val_accuracy: 1.0000\n",
            "Epoch 290/300\n",
            "1/1 [==============================] - 0s 152ms/step - loss: 1.6809e-04 - accuracy: 1.0000 - val_loss: 5.9723e-04 - val_accuracy: 1.0000\n",
            "Epoch 291/300\n",
            "1/1 [==============================] - 0s 151ms/step - loss: 1.6481e-04 - accuracy: 1.0000 - val_loss: 5.9312e-04 - val_accuracy: 1.0000\n",
            "Epoch 292/300\n",
            "1/1 [==============================] - 0s 150ms/step - loss: 1.6160e-04 - accuracy: 1.0000 - val_loss: 5.8969e-04 - val_accuracy: 1.0000\n",
            "Epoch 293/300\n",
            "1/1 [==============================] - 0s 190ms/step - loss: 1.5851e-04 - accuracy: 1.0000 - val_loss: 5.8732e-04 - val_accuracy: 1.0000\n",
            "Epoch 294/300\n",
            "1/1 [==============================] - 0s 165ms/step - loss: 1.5548e-04 - accuracy: 1.0000 - val_loss: 5.8518e-04 - val_accuracy: 1.0000\n",
            "Epoch 295/300\n",
            "1/1 [==============================] - 0s 171ms/step - loss: 1.5256e-04 - accuracy: 1.0000 - val_loss: 5.8322e-04 - val_accuracy: 1.0000\n",
            "Epoch 296/300\n",
            "1/1 [==============================] - 0s 161ms/step - loss: 1.4975e-04 - accuracy: 1.0000 - val_loss: 5.8136e-04 - val_accuracy: 1.0000\n",
            "Epoch 297/300\n",
            "1/1 [==============================] - 0s 163ms/step - loss: 1.4701e-04 - accuracy: 1.0000 - val_loss: 5.7964e-04 - val_accuracy: 1.0000\n",
            "Epoch 298/300\n",
            "1/1 [==============================] - 0s 165ms/step - loss: 1.4433e-04 - accuracy: 1.0000 - val_loss: 5.7803e-04 - val_accuracy: 1.0000\n",
            "Epoch 299/300\n",
            "1/1 [==============================] - 0s 204ms/step - loss: 1.4174e-04 - accuracy: 1.0000 - val_loss: 5.7651e-04 - val_accuracy: 1.0000\n",
            "Epoch 300/300\n",
            "1/1 [==============================] - 0s 150ms/step - loss: 1.3921e-04 - accuracy: 1.0000 - val_loss: 5.7505e-04 - val_accuracy: 1.0000\n"
          ]
        },
        {
          "output_type": "execute_result",
          "data": {
            "text/plain": [
              "<keras.src.callbacks.History at 0x7e16cb795090>"
            ]
          },
          "metadata": {},
          "execution_count": 169
        }
      ],
      "source": [
        "model = Sequential()\n",
        "model.add(LSTM(64, return_sequences=True, activation='relu', input_shape=(\n",
        "    x_train.shape[1], #num_frames\n",
        "    x_train.shape[2]  #num_landmarks em cada frame\n",
        ")))\n",
        "\n",
        "model.add(LSTM(128, return_sequences=True, activation='relu'))\n",
        "model.add(LSTM(64, return_sequences=False, activation='relu'))\n",
        "model.add(Dense(64, activation='relu'))\n",
        "model.add(Dense(32, activation='relu'))\n",
        "model.add(Dense(actions.shape[0], activation='softmax'))\n",
        "# model.add(LSTM(64))\n",
        "# model.add(Dense(7, activation='softmax'))\n",
        "\n",
        "model.compile(loss='categorical_crossentropy', optimizer='adam', metrics=['accuracy'])\n",
        "model.fit(x_train, y_train, epochs=300, batch_size=32, validation_data=(x_test, y_test))\n"
      ]
    },
    {
      "cell_type": "markdown",
      "source": [
        "# Análise dos resultados"
      ],
      "metadata": {
        "id": "nNUKrrFC2zB7"
      }
    },
    {
      "cell_type": "markdown",
      "metadata": {
        "id": "WYlHBgpwvokn"
      },
      "source": [
        "## Geração da matriz de confusão\n",
        "\n",
        "Essa matriz serve para analisar o número de verdadeiros/falsos positivos/negativos"
      ]
    },
    {
      "cell_type": "code",
      "execution_count": 172,
      "metadata": {
        "colab": {
          "base_uri": "https://localhost:8080/"
        },
        "id": "ZOeZR1u_vWR4",
        "outputId": "d691b065-084e-4e08-fb6a-c61d548b309a"
      },
      "outputs": [
        {
          "output_type": "stream",
          "name": "stdout",
          "text": [
            "1/1 [==============================] - 0s 481ms/step\n"
          ]
        },
        {
          "output_type": "execute_result",
          "data": {
            "text/plain": [
              "array([[[5, 0],\n",
              "        [0, 3]],\n",
              "\n",
              "       [[6, 0],\n",
              "        [0, 2]],\n",
              "\n",
              "       [[7, 0],\n",
              "        [0, 1]],\n",
              "\n",
              "       [[7, 0],\n",
              "        [0, 1]],\n",
              "\n",
              "       [[7, 0],\n",
              "        [0, 1]]])"
            ]
          },
          "metadata": {},
          "execution_count": 172
        }
      ],
      "source": [
        "from sklearn.metrics import multilabel_confusion_matrix, accuracy_score\n",
        "\n",
        "yhat = model.predict(x_test)\n",
        "ytrue = np.argmax(y_test, axis=1).tolist()\n",
        "yhat = np.argmax(yhat, axis=1).tolist()\n",
        "multilabel_confusion_matrix(ytrue, yhat)\n"
      ]
    },
    {
      "cell_type": "markdown",
      "metadata": {
        "id": "djSG4gJVv6iC"
      },
      "source": [
        "## Cálculo da precisão do modelo"
      ]
    },
    {
      "cell_type": "code",
      "execution_count": 173,
      "metadata": {
        "colab": {
          "base_uri": "https://localhost:8080/"
        },
        "id": "-RIVmm4Jv3ki",
        "outputId": "65dad965-53a8-40cd-9018-3fd0bd15683f"
      },
      "outputs": [
        {
          "output_type": "execute_result",
          "data": {
            "text/plain": [
              "1.0"
            ]
          },
          "metadata": {},
          "execution_count": 173
        }
      ],
      "source": [
        "accuracy_score(ytrue, yhat)"
      ]
    },
    {
      "cell_type": "markdown",
      "source": [
        "# Salvar o modelo gerado"
      ],
      "metadata": {
        "id": "8BltfYft0_KS"
      }
    },
    {
      "cell_type": "code",
      "execution_count": null,
      "metadata": {
        "id": "RvT_jBeanFLa"
      },
      "outputs": [],
      "source": [
        "model.save('libras.h5')"
      ]
    },
    {
      "cell_type": "markdown",
      "metadata": {
        "id": "zQyfchsEsyyf"
      },
      "source": [
        "# Testando o modelo"
      ]
    },
    {
      "cell_type": "code",
      "source": [
        "def process_test_video(video_path):\n",
        "  base_options = python.BaseOptions(model_asset_path='gesture_recognizer.task')\n",
        "  options = vision.GestureRecognizerOptions(base_options=base_options, num_hands=2)\n",
        "  recognizer = vision.GestureRecognizer.create_from_options(options)\n",
        "\n",
        "  cap = cv2.VideoCapture(video_path)\n",
        "\n",
        "  video_frames = []\n",
        "  num_frames = 30\n",
        "\n",
        "  while cap.isOpened():\n",
        "        ret, frame = cap.read()\n",
        "        if not ret:\n",
        "            break\n",
        "\n",
        "        frame_rgb = cv2.cvtColor(frame, cv2.COLOR_BGR2RGB)\n",
        "        image = mp.Image(image_format=mp.ImageFormat.SRGB, data=frame_rgb)\n",
        "\n",
        "        recognition_result = recognizer.recognize(image)\n",
        "        # show_frame(frame, recognition_result.hand_landmarks)\n",
        "        if(len(recognition_result.hand_landmarks) > 0 and len(video_frames) < num_frames):\n",
        "          keypoints = format_landmarks(recognition_result.hand_landmarks)\n",
        "          video_frames.append(keypoints)\n",
        "\n",
        "\n",
        "        if cv2.waitKey(1) & 0xFF == ord('q'):\n",
        "            break\n",
        "\n",
        "  cap.release()\n",
        "  cv2.destroyAllWindows()\n",
        "  return video_frames"
      ],
      "metadata": {
        "id": "sMuv1Qjp1VDH"
      },
      "execution_count": 135,
      "outputs": []
    },
    {
      "cell_type": "code",
      "execution_count": 146,
      "metadata": {
        "colab": {
          "base_uri": "https://localhost:8080/"
        },
        "id": "fW9fncYGnucl",
        "outputId": "ec32a49e-d228-4446-b16c-fdcd9908c1f2"
      },
      "outputs": [
        {
          "output_type": "stream",
          "name": "stdout",
          "text": [
            "(1, 30, 63)\n"
          ]
        }
      ],
      "source": [
        "new_video = np.array(process_test_video('videos/acontecer/01AcontecerSinalizador07-1.mp4'))\n",
        "print(np.array([new_video]).shape)"
      ]
    },
    {
      "cell_type": "code",
      "source": [
        "result = model.predict(np.array([new_video]))\n",
        "\n",
        "category = actions[np.argmax(result[0])]\n",
        "print(category)"
      ],
      "metadata": {
        "colab": {
          "base_uri": "https://localhost:8080/"
        },
        "id": "qep3SPF01ygG",
        "outputId": "1fae10dd-da54-4a5d-e325-0e0a210b36c8"
      },
      "execution_count": 168,
      "outputs": [
        {
          "output_type": "stream",
          "name": "stdout",
          "text": [
            "1/1 [==============================] - 0s 45ms/step\n",
            "acontecer\n"
          ]
        }
      ]
    }
  ],
  "metadata": {
    "colab": {
      "collapsed_sections": [
        "N0e4u61N79br"
      ],
      "provenance": []
    },
    "kernelspec": {
      "display_name": "Python 3",
      "name": "python3"
    },
    "language_info": {
      "name": "python"
    }
  },
  "nbformat": 4,
  "nbformat_minor": 0
}